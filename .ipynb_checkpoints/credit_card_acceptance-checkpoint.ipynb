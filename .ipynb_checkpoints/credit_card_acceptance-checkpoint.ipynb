{
 "cells": [
  {
   "cell_type": "markdown",
   "id": "67a30041-00ff-415a-983e-2b543b14753f",
   "metadata": {},
   "source": [
    "# Credit Card Acceptance \n",
    "\n",
    "In this notebook, we dissect customer data to gain insights into why they may or may not accept credit cards offered to them and also build models to predict customer behaviour."
   ]
  },
  {
   "cell_type": "code",
   "execution_count": 1,
   "id": "9c6fce7b-3252-4d21-bb17-fb5f4d936102",
   "metadata": {},
   "outputs": [],
   "source": [
    "\"\"\"\n",
    "importing necessary libraries\n",
    "\"\"\"\n",
    "import numpy as np\n",
    "import pandas as pd \n",
    "import matplotlib.pyplot as plt \n",
    "import seaborn as sns \n",
    "import warnings \n",
    "import pickle \n",
    "warnings.filterwarnings(\"ignore\")\n",
    "\n",
    "from sklearn.model_selection import train_test_split\n",
    "from sklearn.metrics import mutual_info_score\n",
    "from sklearn.feature_extraction import DictVectorizer \n",
    "from sklearn.linear_model import LogisticRegression\n",
    "from sklearn.metrics import accuracy_score\n",
    "from sklearn.tree import DecisionTreeClassifier\n",
    "from sklearn.ensemble import RandomForestClassifier"
   ]
  },
  {
   "cell_type": "code",
   "execution_count": 2,
   "id": "f6a7683f-5fd4-46d1-8d50-865a55a18720",
   "metadata": {},
   "outputs": [
    {
     "name": "stdout",
     "output_type": "stream",
     "text": [
      "Number of rows: 18000\n",
      "Number of columns: 18\n"
     ]
    }
   ],
   "source": [
    "\"\"\"\n",
    "reading the data and checking the shape\n",
    "\"\"\"\n",
    "df = pd.read_csv(\"./data/creditcardmarketing-bbm.csv\")\n",
    "\n",
    "pd.set_option('display.max.columns', None)\n",
    "\n",
    "\n",
    "print(f\"Number of rows: {df.shape[0]}\")\n",
    "print(f\"Number of columns: {df.shape[1]}\")"
   ]
  },
  {
   "cell_type": "code",
   "execution_count": 3,
   "id": "dbbbd837-f8c7-4b51-9ef8-6a59b2e4244d",
   "metadata": {},
   "outputs": [
    {
     "data": {
      "text/html": [
       "<div>\n",
       "<style scoped>\n",
       "    .dataframe tbody tr th:only-of-type {\n",
       "        vertical-align: middle;\n",
       "    }\n",
       "\n",
       "    .dataframe tbody tr th {\n",
       "        vertical-align: top;\n",
       "    }\n",
       "\n",
       "    .dataframe thead th {\n",
       "        text-align: right;\n",
       "    }\n",
       "</style>\n",
       "<table border=\"1\" class=\"dataframe\">\n",
       "  <thead>\n",
       "    <tr style=\"text-align: right;\">\n",
       "      <th></th>\n",
       "      <th>index</th>\n",
       "      <th>Customer Number</th>\n",
       "      <th>Offer Accepted</th>\n",
       "      <th>Reward</th>\n",
       "      <th>Mailer Type</th>\n",
       "      <th>Income Level</th>\n",
       "      <th># Bank Accounts Open</th>\n",
       "      <th>Overdraft Protection</th>\n",
       "      <th>Credit Rating</th>\n",
       "      <th># Credit Cards Held</th>\n",
       "      <th># Homes Owned</th>\n",
       "      <th>Household Size</th>\n",
       "      <th>Own Your Home</th>\n",
       "      <th>Average Balance</th>\n",
       "      <th>Q1 Balance</th>\n",
       "      <th>Q2 Balance</th>\n",
       "      <th>Q3 Balance</th>\n",
       "      <th>Q4 Balance</th>\n",
       "    </tr>\n",
       "  </thead>\n",
       "  <tbody>\n",
       "    <tr>\n",
       "      <th>0</th>\n",
       "      <td>0</td>\n",
       "      <td>1</td>\n",
       "      <td>No</td>\n",
       "      <td>Air Miles</td>\n",
       "      <td>Letter</td>\n",
       "      <td>High</td>\n",
       "      <td>1</td>\n",
       "      <td>No</td>\n",
       "      <td>High</td>\n",
       "      <td>2</td>\n",
       "      <td>1</td>\n",
       "      <td>4</td>\n",
       "      <td>No</td>\n",
       "      <td>1160.75</td>\n",
       "      <td>1669.0</td>\n",
       "      <td>877.0</td>\n",
       "      <td>1095.0</td>\n",
       "      <td>1002.0</td>\n",
       "    </tr>\n",
       "    <tr>\n",
       "      <th>1</th>\n",
       "      <td>1</td>\n",
       "      <td>2</td>\n",
       "      <td>No</td>\n",
       "      <td>Air Miles</td>\n",
       "      <td>Letter</td>\n",
       "      <td>Medium</td>\n",
       "      <td>1</td>\n",
       "      <td>No</td>\n",
       "      <td>Medium</td>\n",
       "      <td>2</td>\n",
       "      <td>2</td>\n",
       "      <td>5</td>\n",
       "      <td>Yes</td>\n",
       "      <td>147.25</td>\n",
       "      <td>39.0</td>\n",
       "      <td>106.0</td>\n",
       "      <td>78.0</td>\n",
       "      <td>366.0</td>\n",
       "    </tr>\n",
       "    <tr>\n",
       "      <th>2</th>\n",
       "      <td>2</td>\n",
       "      <td>3</td>\n",
       "      <td>No</td>\n",
       "      <td>Air Miles</td>\n",
       "      <td>Postcard</td>\n",
       "      <td>High</td>\n",
       "      <td>2</td>\n",
       "      <td>No</td>\n",
       "      <td>Medium</td>\n",
       "      <td>2</td>\n",
       "      <td>1</td>\n",
       "      <td>2</td>\n",
       "      <td>Yes</td>\n",
       "      <td>276.50</td>\n",
       "      <td>367.0</td>\n",
       "      <td>352.0</td>\n",
       "      <td>145.0</td>\n",
       "      <td>242.0</td>\n",
       "    </tr>\n",
       "    <tr>\n",
       "      <th>3</th>\n",
       "      <td>3</td>\n",
       "      <td>4</td>\n",
       "      <td>No</td>\n",
       "      <td>Air Miles</td>\n",
       "      <td>Letter</td>\n",
       "      <td>Medium</td>\n",
       "      <td>2</td>\n",
       "      <td>No</td>\n",
       "      <td>High</td>\n",
       "      <td>1</td>\n",
       "      <td>1</td>\n",
       "      <td>4</td>\n",
       "      <td>No</td>\n",
       "      <td>1219.00</td>\n",
       "      <td>1578.0</td>\n",
       "      <td>1760.0</td>\n",
       "      <td>1119.0</td>\n",
       "      <td>419.0</td>\n",
       "    </tr>\n",
       "    <tr>\n",
       "      <th>4</th>\n",
       "      <td>4</td>\n",
       "      <td>5</td>\n",
       "      <td>No</td>\n",
       "      <td>Air Miles</td>\n",
       "      <td>Letter</td>\n",
       "      <td>Medium</td>\n",
       "      <td>1</td>\n",
       "      <td>No</td>\n",
       "      <td>Medium</td>\n",
       "      <td>2</td>\n",
       "      <td>1</td>\n",
       "      <td>6</td>\n",
       "      <td>Yes</td>\n",
       "      <td>1211.00</td>\n",
       "      <td>2140.0</td>\n",
       "      <td>1357.0</td>\n",
       "      <td>982.0</td>\n",
       "      <td>365.0</td>\n",
       "    </tr>\n",
       "  </tbody>\n",
       "</table>\n",
       "</div>"
      ],
      "text/plain": [
       "   index  Customer Number Offer Accepted     Reward Mailer Type Income Level  \\\n",
       "0      0                1             No  Air Miles      Letter         High   \n",
       "1      1                2             No  Air Miles      Letter       Medium   \n",
       "2      2                3             No  Air Miles    Postcard         High   \n",
       "3      3                4             No  Air Miles      Letter       Medium   \n",
       "4      4                5             No  Air Miles      Letter       Medium   \n",
       "\n",
       "   # Bank Accounts Open Overdraft Protection Credit Rating  \\\n",
       "0                     1                   No          High   \n",
       "1                     1                   No        Medium   \n",
       "2                     2                   No        Medium   \n",
       "3                     2                   No          High   \n",
       "4                     1                   No        Medium   \n",
       "\n",
       "   # Credit Cards Held  # Homes Owned  Household Size Own Your Home  \\\n",
       "0                    2              1               4            No   \n",
       "1                    2              2               5           Yes   \n",
       "2                    2              1               2           Yes   \n",
       "3                    1              1               4            No   \n",
       "4                    2              1               6           Yes   \n",
       "\n",
       "   Average Balance  Q1 Balance  Q2 Balance  Q3 Balance  Q4 Balance  \n",
       "0          1160.75      1669.0       877.0      1095.0      1002.0  \n",
       "1           147.25        39.0       106.0        78.0       366.0  \n",
       "2           276.50       367.0       352.0       145.0       242.0  \n",
       "3          1219.00      1578.0      1760.0      1119.0       419.0  \n",
       "4          1211.00      2140.0      1357.0       982.0       365.0  "
      ]
     },
     "execution_count": 3,
     "metadata": {},
     "output_type": "execute_result"
    }
   ],
   "source": [
    "\"\"\"\n",
    "Previewing the data\n",
    "\"\"\"\n",
    "df.head()"
   ]
  },
  {
   "cell_type": "code",
   "execution_count": 4,
   "id": "c3a11b5a-ea8d-46ab-bc24-b8a0add18e7c",
   "metadata": {},
   "outputs": [
    {
     "data": {
      "text/plain": [
       "index                     int64\n",
       "Customer Number           int64\n",
       "Offer Accepted           object\n",
       "Reward                   object\n",
       "Mailer Type              object\n",
       "Income Level             object\n",
       "# Bank Accounts Open      int64\n",
       "Overdraft Protection     object\n",
       "Credit Rating            object\n",
       "# Credit Cards Held       int64\n",
       "# Homes Owned             int64\n",
       "Household Size            int64\n",
       "Own Your Home            object\n",
       "Average Balance         float64\n",
       "Q1 Balance              float64\n",
       "Q2 Balance              float64\n",
       "Q3 Balance              float64\n",
       "Q4 Balance              float64\n",
       "dtype: object"
      ]
     },
     "execution_count": 4,
     "metadata": {},
     "output_type": "execute_result"
    }
   ],
   "source": [
    "\"\"\"\n",
    "Checking the data types  of columns in the dataset \n",
    "\"\"\"\n",
    "df.dtypes"
   ]
  },
  {
   "cell_type": "code",
   "execution_count": 5,
   "id": "50cb3026-292f-4100-8ff0-bd507b4bd7b4",
   "metadata": {},
   "outputs": [
    {
     "data": {
      "text/html": [
       "<div>\n",
       "<style scoped>\n",
       "    .dataframe tbody tr th:only-of-type {\n",
       "        vertical-align: middle;\n",
       "    }\n",
       "\n",
       "    .dataframe tbody tr th {\n",
       "        vertical-align: top;\n",
       "    }\n",
       "\n",
       "    .dataframe thead th {\n",
       "        text-align: right;\n",
       "    }\n",
       "</style>\n",
       "<table border=\"1\" class=\"dataframe\">\n",
       "  <thead>\n",
       "    <tr style=\"text-align: right;\">\n",
       "      <th></th>\n",
       "      <th>index</th>\n",
       "      <th>Customer Number</th>\n",
       "      <th># Bank Accounts Open</th>\n",
       "      <th># Credit Cards Held</th>\n",
       "      <th># Homes Owned</th>\n",
       "      <th>Household Size</th>\n",
       "      <th>Average Balance</th>\n",
       "      <th>Q1 Balance</th>\n",
       "      <th>Q2 Balance</th>\n",
       "      <th>Q3 Balance</th>\n",
       "      <th>Q4 Balance</th>\n",
       "    </tr>\n",
       "  </thead>\n",
       "  <tbody>\n",
       "    <tr>\n",
       "      <th>count</th>\n",
       "      <td>18000.000000</td>\n",
       "      <td>18000.000000</td>\n",
       "      <td>18000.000000</td>\n",
       "      <td>18000.000000</td>\n",
       "      <td>18000.000000</td>\n",
       "      <td>18000.000000</td>\n",
       "      <td>17976.000000</td>\n",
       "      <td>17976.000000</td>\n",
       "      <td>17976.000000</td>\n",
       "      <td>17976.000000</td>\n",
       "      <td>17976.000000</td>\n",
       "    </tr>\n",
       "    <tr>\n",
       "      <th>mean</th>\n",
       "      <td>8999.500000</td>\n",
       "      <td>9000.500000</td>\n",
       "      <td>1.255778</td>\n",
       "      <td>1.903500</td>\n",
       "      <td>1.203444</td>\n",
       "      <td>3.499056</td>\n",
       "      <td>940.515562</td>\n",
       "      <td>910.450656</td>\n",
       "      <td>999.392190</td>\n",
       "      <td>1042.033600</td>\n",
       "      <td>810.185803</td>\n",
       "    </tr>\n",
       "    <tr>\n",
       "      <th>std</th>\n",
       "      <td>5196.296758</td>\n",
       "      <td>5196.296758</td>\n",
       "      <td>0.472501</td>\n",
       "      <td>0.797009</td>\n",
       "      <td>0.427341</td>\n",
       "      <td>1.114182</td>\n",
       "      <td>350.297837</td>\n",
       "      <td>620.077060</td>\n",
       "      <td>457.402268</td>\n",
       "      <td>553.452599</td>\n",
       "      <td>559.001365</td>\n",
       "    </tr>\n",
       "    <tr>\n",
       "      <th>min</th>\n",
       "      <td>0.000000</td>\n",
       "      <td>1.000000</td>\n",
       "      <td>1.000000</td>\n",
       "      <td>1.000000</td>\n",
       "      <td>1.000000</td>\n",
       "      <td>1.000000</td>\n",
       "      <td>48.250000</td>\n",
       "      <td>0.000000</td>\n",
       "      <td>0.000000</td>\n",
       "      <td>0.000000</td>\n",
       "      <td>0.000000</td>\n",
       "    </tr>\n",
       "    <tr>\n",
       "      <th>25%</th>\n",
       "      <td>4499.750000</td>\n",
       "      <td>4500.750000</td>\n",
       "      <td>1.000000</td>\n",
       "      <td>1.000000</td>\n",
       "      <td>1.000000</td>\n",
       "      <td>3.000000</td>\n",
       "      <td>787.500000</td>\n",
       "      <td>392.750000</td>\n",
       "      <td>663.000000</td>\n",
       "      <td>633.000000</td>\n",
       "      <td>363.000000</td>\n",
       "    </tr>\n",
       "    <tr>\n",
       "      <th>50%</th>\n",
       "      <td>8999.500000</td>\n",
       "      <td>9000.500000</td>\n",
       "      <td>1.000000</td>\n",
       "      <td>2.000000</td>\n",
       "      <td>1.000000</td>\n",
       "      <td>3.000000</td>\n",
       "      <td>1007.000000</td>\n",
       "      <td>772.000000</td>\n",
       "      <td>1032.000000</td>\n",
       "      <td>945.500000</td>\n",
       "      <td>703.000000</td>\n",
       "    </tr>\n",
       "    <tr>\n",
       "      <th>75%</th>\n",
       "      <td>13499.250000</td>\n",
       "      <td>13500.250000</td>\n",
       "      <td>1.000000</td>\n",
       "      <td>2.000000</td>\n",
       "      <td>1.000000</td>\n",
       "      <td>4.000000</td>\n",
       "      <td>1153.250000</td>\n",
       "      <td>1521.000000</td>\n",
       "      <td>1342.000000</td>\n",
       "      <td>1463.000000</td>\n",
       "      <td>1212.000000</td>\n",
       "    </tr>\n",
       "    <tr>\n",
       "      <th>max</th>\n",
       "      <td>17999.000000</td>\n",
       "      <td>18000.000000</td>\n",
       "      <td>3.000000</td>\n",
       "      <td>4.000000</td>\n",
       "      <td>3.000000</td>\n",
       "      <td>9.000000</td>\n",
       "      <td>3366.250000</td>\n",
       "      <td>3450.000000</td>\n",
       "      <td>3421.000000</td>\n",
       "      <td>3823.000000</td>\n",
       "      <td>4215.000000</td>\n",
       "    </tr>\n",
       "  </tbody>\n",
       "</table>\n",
       "</div>"
      ],
      "text/plain": [
       "              index  Customer Number  # Bank Accounts Open  \\\n",
       "count  18000.000000     18000.000000          18000.000000   \n",
       "mean    8999.500000      9000.500000              1.255778   \n",
       "std     5196.296758      5196.296758              0.472501   \n",
       "min        0.000000         1.000000              1.000000   \n",
       "25%     4499.750000      4500.750000              1.000000   \n",
       "50%     8999.500000      9000.500000              1.000000   \n",
       "75%    13499.250000     13500.250000              1.000000   \n",
       "max    17999.000000     18000.000000              3.000000   \n",
       "\n",
       "       # Credit Cards Held  # Homes Owned  Household Size  Average Balance  \\\n",
       "count         18000.000000   18000.000000    18000.000000     17976.000000   \n",
       "mean              1.903500       1.203444        3.499056       940.515562   \n",
       "std               0.797009       0.427341        1.114182       350.297837   \n",
       "min               1.000000       1.000000        1.000000        48.250000   \n",
       "25%               1.000000       1.000000        3.000000       787.500000   \n",
       "50%               2.000000       1.000000        3.000000      1007.000000   \n",
       "75%               2.000000       1.000000        4.000000      1153.250000   \n",
       "max               4.000000       3.000000        9.000000      3366.250000   \n",
       "\n",
       "         Q1 Balance    Q2 Balance    Q3 Balance    Q4 Balance  \n",
       "count  17976.000000  17976.000000  17976.000000  17976.000000  \n",
       "mean     910.450656    999.392190   1042.033600    810.185803  \n",
       "std      620.077060    457.402268    553.452599    559.001365  \n",
       "min        0.000000      0.000000      0.000000      0.000000  \n",
       "25%      392.750000    663.000000    633.000000    363.000000  \n",
       "50%      772.000000   1032.000000    945.500000    703.000000  \n",
       "75%     1521.000000   1342.000000   1463.000000   1212.000000  \n",
       "max     3450.000000   3421.000000   3823.000000   4215.000000  "
      ]
     },
     "execution_count": 5,
     "metadata": {},
     "output_type": "execute_result"
    }
   ],
   "source": [
    "\"\"\"\n",
    "Descriptive statisitics on numerical columns \n",
    "\"\"\"\n",
    "df.describe()"
   ]
  },
  {
   "cell_type": "code",
   "execution_count": 6,
   "id": "32580f71-e113-408c-853b-163d64f79f44",
   "metadata": {},
   "outputs": [
    {
     "data": {
      "text/html": [
       "<div>\n",
       "<style scoped>\n",
       "    .dataframe tbody tr th:only-of-type {\n",
       "        vertical-align: middle;\n",
       "    }\n",
       "\n",
       "    .dataframe tbody tr th {\n",
       "        vertical-align: top;\n",
       "    }\n",
       "\n",
       "    .dataframe thead th {\n",
       "        text-align: right;\n",
       "    }\n",
       "</style>\n",
       "<table border=\"1\" class=\"dataframe\">\n",
       "  <thead>\n",
       "    <tr style=\"text-align: right;\">\n",
       "      <th></th>\n",
       "      <th>Offer Accepted</th>\n",
       "      <th>Reward</th>\n",
       "      <th>Mailer Type</th>\n",
       "      <th>Income Level</th>\n",
       "      <th>Overdraft Protection</th>\n",
       "      <th>Credit Rating</th>\n",
       "      <th>Own Your Home</th>\n",
       "    </tr>\n",
       "  </thead>\n",
       "  <tbody>\n",
       "    <tr>\n",
       "      <th>count</th>\n",
       "      <td>18000</td>\n",
       "      <td>18000</td>\n",
       "      <td>18000</td>\n",
       "      <td>18000</td>\n",
       "      <td>18000</td>\n",
       "      <td>18000</td>\n",
       "      <td>18000</td>\n",
       "    </tr>\n",
       "    <tr>\n",
       "      <th>unique</th>\n",
       "      <td>2</td>\n",
       "      <td>3</td>\n",
       "      <td>2</td>\n",
       "      <td>3</td>\n",
       "      <td>2</td>\n",
       "      <td>3</td>\n",
       "      <td>2</td>\n",
       "    </tr>\n",
       "    <tr>\n",
       "      <th>top</th>\n",
       "      <td>No</td>\n",
       "      <td>Air Miles</td>\n",
       "      <td>Postcard</td>\n",
       "      <td>Medium</td>\n",
       "      <td>No</td>\n",
       "      <td>High</td>\n",
       "      <td>Yes</td>\n",
       "    </tr>\n",
       "    <tr>\n",
       "      <th>freq</th>\n",
       "      <td>16977</td>\n",
       "      <td>6061</td>\n",
       "      <td>9147</td>\n",
       "      <td>9013</td>\n",
       "      <td>15322</td>\n",
       "      <td>6071</td>\n",
       "      <td>11655</td>\n",
       "    </tr>\n",
       "  </tbody>\n",
       "</table>\n",
       "</div>"
      ],
      "text/plain": [
       "       Offer Accepted     Reward Mailer Type Income Level  \\\n",
       "count           18000      18000       18000        18000   \n",
       "unique              2          3           2            3   \n",
       "top                No  Air Miles    Postcard       Medium   \n",
       "freq            16977       6061        9147         9013   \n",
       "\n",
       "       Overdraft Protection Credit Rating Own Your Home  \n",
       "count                 18000         18000         18000  \n",
       "unique                    2             3             2  \n",
       "top                      No          High           Yes  \n",
       "freq                  15322          6071         11655  "
      ]
     },
     "execution_count": 6,
     "metadata": {},
     "output_type": "execute_result"
    }
   ],
   "source": [
    "\"\"\"\n",
    "Descriptive statisitics on object columns \n",
    "\"\"\"\n",
    "df.describe(include=\"object\")"
   ]
  },
  {
   "cell_type": "markdown",
   "id": "51a8136a-1632-4d37-9ceb-8c98e98b02b3",
   "metadata": {},
   "source": [
    "# Data Preparation "
   ]
  },
  {
   "cell_type": "code",
   "execution_count": 7,
   "id": "26d30bc0-b867-4cc9-83e1-e9dfdb2f46f7",
   "metadata": {},
   "outputs": [],
   "source": [
    "\"\"\"\n",
    "Creating a copy of the dataset to be used for analysis \n",
    "\"\"\"\n",
    "data = df.copy()\n",
    "\n",
    "\n",
    "data.columns = data.columns.str.lower().str.replace(\" \", '_')\n",
    "\n",
    "data.rename(columns={'#_bank_accounts_open':'bank_accounts_open', \"#_homes_owned\":\"homes_owned\", \n",
    "                     '#_credit_cards_held':'credit_cards_held'}, inplace=True)\n",
    "\n",
    "data['accepted_offer'] = (data['offer_accepted']==\"Yes\").astype(int)\n",
    "    \n",
    "del data['offer_accepted']\n",
    "\n"
   ]
  },
  {
   "cell_type": "code",
   "execution_count": 8,
   "id": "9b1b035f-2d41-4fd9-8781-c8c2764e0c48",
   "metadata": {},
   "outputs": [],
   "source": [
    "\"\"\"\n",
    "dropping redundant columns\n",
    "\"\"\"\n",
    "data = data.drop(['index', 'customer_number'], axis=1)"
   ]
  },
  {
   "cell_type": "code",
   "execution_count": 9,
   "id": "9c35c1d6-f3c6-4be0-bae5-b80ef58485ff",
   "metadata": {},
   "outputs": [
    {
     "data": {
      "text/plain": [
       "reward                   0\n",
       "mailer_type              0\n",
       "income_level             0\n",
       "bank_accounts_open       0\n",
       "overdraft_protection     0\n",
       "credit_rating            0\n",
       "credit_cards_held        0\n",
       "homes_owned              0\n",
       "household_size           0\n",
       "own_your_home            0\n",
       "average_balance         24\n",
       "q1_balance              24\n",
       "q2_balance              24\n",
       "q3_balance              24\n",
       "q4_balance              24\n",
       "accepted_offer           0\n",
       "dtype: int64"
      ]
     },
     "execution_count": 9,
     "metadata": {},
     "output_type": "execute_result"
    }
   ],
   "source": [
    "\"\"\"\n",
    "checking for missing values\n",
    "\"\"\"\n",
    "data.isnull().sum()"
   ]
  },
  {
   "cell_type": "code",
   "execution_count": 10,
   "id": "f3b88483-1092-4f31-83a7-e93d6f9f9c8d",
   "metadata": {},
   "outputs": [
    {
     "data": {
      "text/plain": [
       "reward                  0\n",
       "mailer_type             0\n",
       "income_level            0\n",
       "bank_accounts_open      0\n",
       "overdraft_protection    0\n",
       "credit_rating           0\n",
       "credit_cards_held       0\n",
       "homes_owned             0\n",
       "household_size          0\n",
       "own_your_home           0\n",
       "average_balance         0\n",
       "q1_balance              0\n",
       "q2_balance              0\n",
       "q3_balance              0\n",
       "q4_balance              0\n",
       "accepted_offer          0\n",
       "dtype: int64"
      ]
     },
     "execution_count": 10,
     "metadata": {},
     "output_type": "execute_result"
    }
   ],
   "source": [
    "\"\"\"\n",
    "dropping columns with missing values\n",
    "\"\"\"\n",
    "\n",
    "data.dropna(inplace=True)\n",
    "\n",
    "data.isnull().sum()"
   ]
  },
  {
   "cell_type": "code",
   "execution_count": 11,
   "id": "ed1e9fc9-0349-4e40-8c87-4847fb9f621e",
   "metadata": {},
   "outputs": [],
   "source": [
    "numerical_cols = ['q1_balance', 'credit_cards_held',\n",
    "                  'q2_balance', 'q3_balance', 'q4_balance', 'average_balance', \n",
    "                  'household_size', 'bank_accounts_open', 'homes_owned']\n",
    "\n",
    "categorical_cols = ['reward', 'mailer_type', 'income_level', \n",
    "                    'overdraft_protection', 'credit_rating', 'own_your_home' ]"
   ]
  },
  {
   "cell_type": "code",
   "execution_count": 12,
   "id": "58c31aac-2975-4870-9dc0-9b3217887679",
   "metadata": {},
   "outputs": [
    {
     "data": {
      "text/plain": [
       "[['reward', array(['Air Miles', 'Cash Back', 'Points'], dtype=object)],\n",
       " ['mailer_type', array(['Letter', 'Postcard'], dtype=object)],\n",
       " ['income_level', array(['High', 'Medium', 'Low'], dtype=object)],\n",
       " ['overdraft_protection', array(['No', 'Yes'], dtype=object)],\n",
       " ['credit_rating', array(['High', 'Medium', 'Low'], dtype=object)],\n",
       " ['own_your_home', array(['No', 'Yes'], dtype=object)]]"
      ]
     },
     "execution_count": 12,
     "metadata": {},
     "output_type": "execute_result"
    }
   ],
   "source": [
    "def categorical_unique(data):\n",
    "    \"\"\"\n",
    "    This function takes in a dataframe and returns a list of the unique values in all columns with data type 'object'\n",
    "    :params: pandas dataframe \n",
    "    :return: Unique values in object type columns \n",
    "    :rtype: List \n",
    "    \"\"\"\n",
    "    unique_attributes = [[column, data[column].unique()] for column in data if data[column].dtype==\"object\"]\n",
    "    return unique_attributes\n",
    "\n",
    "categorical_unique(data) "
   ]
  },
  {
   "cell_type": "code",
   "execution_count": 13,
   "id": "4a51a382-6ab8-408b-ab0d-c91acfb43cd7",
   "metadata": {},
   "outputs": [],
   "source": [
    "\"\"\"\n",
    "Splitting the data \n",
    "\"\"\"\n",
    "df_full_train, df_test = train_test_split(data, test_size=0.2, random_state=1)\n",
    "df_train, df_val = train_test_split(df_full_train, test_size=0.25, random_state=1)\n",
    "\n",
    "y_full_train = df_full_train.accepted_offer.values\n",
    "y_train = df_train.accepted_offer.values\n",
    "y_val = df_val.accepted_offer.values\n",
    "y_test = df_test.accepted_offer.values\n",
    "\n",
    "del df_train['accepted_offer']\n",
    "del df_val['accepted_offer']\n",
    "del df_test['accepted_offer']\n",
    "del df_full_train['accepted_offer']"
   ]
  },
  {
   "cell_type": "markdown",
   "id": "c8233c88-ca4a-4cae-a1d7-5417f736db60",
   "metadata": {},
   "source": [
    "## Exploratory DAta Analysis "
   ]
  },
  {
   "cell_type": "code",
   "execution_count": 14,
   "id": "3ba7a48e-c5dc-42f5-ad09-a00fb4305d04",
   "metadata": {
    "tags": []
   },
   "outputs": [
    {
     "data": {
      "image/png": "[encoded data removed]",
      "text/plain": [
       "<Figure size 1800x1080 with 6 Axes>"
      ]
     },
     "metadata": {
      "needs_background": "light"
     },
     "output_type": "display_data"
    }
   ],
   "source": [
    "\"\"\"\n",
    "checking distribution of binary columns\n",
    "\"\"\"\n",
    "plt.figure(figsize=(25,15))   \n",
    "plt.suptitle(\"Distribution of categorical columns\", fontsize=20)\n",
    "\n",
    "\n",
    "plt.subplot(2,3,1)\n",
    "sns.countplot(data.accepted_offer)\n",
    "plt.xlabel('Offer Accepted', fontsize=15)\n",
    "plt.ylabel('', fontsize=15)\n",
    "sns.despine()\n",
    "\n",
    "plt.subplot(2,3,2)\n",
    "sns.countplot(df_full_train.own_your_home)\n",
    "plt.xlabel('Reward', fontsize=15)\n",
    "plt.ylabel('', fontsize=15)\n",
    "sns.despine()\n",
    "\n",
    "plt.subplot(2,3,3)\n",
    "sns.countplot(df_full_train.mailer_type)\n",
    "plt.xlabel('Mailer Type', fontsize=15)\n",
    "plt.ylabel('', fontsize=15)\n",
    "sns.despine()\n",
    "\n",
    "plt.subplot(2,3,4)\n",
    "sns.countplot(df_full_train.income_level)\n",
    "plt.xlabel('Income Level', fontsize=15)\n",
    "plt.ylabel('', fontsize=15)\n",
    "sns.despine()\n",
    "\n",
    "plt.subplot(2,3,5)\n",
    "sns.countplot(df_full_train.overdraft_protection)\n",
    "plt.xlabel('Overdraft Protection', fontsize=15)\n",
    "plt.ylabel('', fontsize=15)\n",
    "sns.despine()\n",
    "\n",
    "plt.subplot(2,3,6)\n",
    "sns.countplot(df_full_train.credit_rating)\n",
    "plt.xlabel('Credit Rating', fontsize=15)\n",
    "plt.ylabel('', fontsize=15)\n",
    "sns.despine()"
   ]
  },
  {
   "cell_type": "code",
   "execution_count": 15,
   "id": "f409bfea-830e-4a56-8907-b706c545bb2c",
   "metadata": {},
   "outputs": [
    {
     "data": {
      "image/png": "[encoded data removed]",
      "text/plain": [
       "<Figure size 720x504 with 1 Axes>"
      ]
     },
     "metadata": {
      "needs_background": "light"
     },
     "output_type": "display_data"
    }
   ],
   "source": [
    "plt.figure(figsize=(10,7))\n",
    "plt.title(' ')\n",
    "sns.countplot(df_full_train.own_your_home, )\n",
    "# plt.xlabel('Average Balance', fontsize=15)\n",
    "sns.despine()"
   ]
  },
  {
   "cell_type": "code",
   "execution_count": 16,
   "id": "076f55f6-4e37-4e5b-8178-9bdb2beba3e0",
   "metadata": {},
   "outputs": [
    {
     "data": {
      "image/png": "[encoded data removed]",
      "text/plain": [
       "<Figure size 1800x1080 with 4 Axes>"
      ]
     },
     "metadata": {
      "needs_background": "light"
     },
     "output_type": "display_data"
    }
   ],
   "source": [
    "plt.figure(figsize=(25,15))   \n",
    "plt.suptitle(\"Distribution of Quaterly Balances\", fontsize=25)\n",
    "\n",
    "\n",
    "plt.subplot(2,2,1)\n",
    "sns.histplot(df_full_train.q1_balance)\n",
    "plt.xlabel('Quater 1 Balance', fontsize=15)\n",
    "plt.ylabel('')\n",
    "sns.despine()\n",
    "\n",
    "plt.subplot(2,2,2)\n",
    "sns.histplot(df_full_train.q2_balance)\n",
    "plt.xlabel('Quater 2 Balance', fontsize=15)\n",
    "plt.ylabel('')\n",
    "sns.despine()\n",
    "\n",
    "plt.subplot(2,2,3)\n",
    "sns.histplot(df_full_train.q3_balance)\n",
    "plt.xlabel('Quater 3 Balance', fontsize=15)\n",
    "plt.ylabel('')\n",
    "sns.despine()\n",
    "\n",
    "plt.subplot(2,2,4)\n",
    "sns.histplot(df_full_train.q4_balance)\n",
    "plt.xlabel('Quater 4 Balance', fontsize=15)\n",
    "plt.ylabel('')\n",
    "sns.despine()\n",
    "\n"
   ]
  },
  {
   "cell_type": "code",
   "execution_count": 17,
   "id": "af7270d2-8f75-451b-b687-25cb8c68ddf4",
   "metadata": {},
   "outputs": [
    {
     "data": {
      "image/png": "[encoded data removed]",
      "text/plain": [
       "<Figure size 1440x504 with 1 Axes>"
      ]
     },
     "metadata": {
      "needs_background": "light"
     },
     "output_type": "display_data"
    }
   ],
   "source": [
    "plt.figure(figsize=(20,7))\n",
    "plt.subplot(1,2,1)\n",
    "plt.title('Distribution of Average Balance ')\n",
    "sns.histplot(data.average_balance, bins=50)\n",
    "plt.xlabel('Average Balance', fontsize=15)\n",
    "sns.despine()\n"
   ]
  },
  {
   "cell_type": "code",
   "execution_count": 18,
   "id": "90cba3c5-86f8-497a-bffb-f966b9b3bdd8",
   "metadata": {},
   "outputs": [
    {
     "data": {
      "image/png": "[encoded data removed]",
      "text/plain": [
       "<Figure size 1440x1080 with 4 Axes>"
      ]
     },
     "metadata": {
      "needs_background": "light"
     },
     "output_type": "display_data"
    }
   ],
   "source": [
    "\"\"\"\n",
    "Creating a bar chart to check how Education Role affects monthly income \n",
    "\"\"\"\n",
    "plt.figure(figsize=(20,15))\n",
    "\"\"\"\n",
    "Creating a bar chart to check how Education Field affects monthly income \n",
    "\"\"\"\n",
    "plt.subplot(2,2,1)\n",
    "# plt.title(\"Monthly Income Education Field\", fontsize=15)\n",
    "sns.barplot(x=y_full_train, y=df_full_train[\"credit_cards_held\"], color=\"#004481\")\n",
    "sns.despine()\n",
    "\n",
    "\"\"\"\n",
    "Creating a bar chart to check how Education Field affects monthly income \n",
    "\"\"\"\n",
    "plt.subplot(2,2,2)\n",
    "# plt.title(\"Monthly Income Education Field\", fontsize=15)\n",
    "sns.barplot(x=y_full_train, y=df_full_train[\"homes_owned\"], color=\"#004481\")\n",
    "sns.despine()\n",
    "\n",
    "\"\"\"\n",
    "Creating a bar chart to check how Education Field affects monthly income \n",
    "\"\"\"\n",
    "plt.subplot(2,2,3)\n",
    "# plt.title(\"Monthly Income Education Field\", fontsize=15)\n",
    "sns.barplot(x=y_full_train, y=df_full_train[\"average_balance\"], color=\"#004481\")\n",
    "sns.despine()\n",
    "\n",
    "\"\"\"\n",
    "Creating a bar chart to check how Education Field affects monthly income \n",
    "\"\"\"\n",
    "plt.subplot(2,2,4)\n",
    "# plt.title(\"Monthly Income Education Field\", fontsize=15)\n",
    "sns.barplot(x=y_full_train, y=df_full_train[\"bank_accounts_open\"], color=\"#004481\")\n",
    "sns.despine()"
   ]
  },
  {
   "cell_type": "code",
   "execution_count": 19,
   "id": "d61dd29a-86c6-4f42-8e0a-254f7602760c",
   "metadata": {},
   "outputs": [
    {
     "data": {
      "text/plain": [
       "reward                  0.002738\n",
       "mailer_type             0.004582\n",
       "income_level            0.003115\n",
       "overdraft_protection    0.000008\n",
       "credit_rating           0.012787\n",
       "own_your_home           0.000008\n",
       "dtype: float64"
      ]
     },
     "execution_count": 19,
     "metadata": {},
     "output_type": "execute_result"
    }
   ],
   "source": [
    "def find_mi(series):\n",
    "    \"\"\"\n",
    "    This function computes the mutual info score,\n",
    "    between the categorical columns and the target column\n",
    "    \"\"\"\n",
    "    return mutual_info_score(series, y_full_train)\n",
    "\n",
    "\n",
    "df_full_train[categorical_cols].apply(find_mi)"
   ]
  },
  {
   "cell_type": "code",
   "execution_count": 20,
   "id": "c39fb8bc-0534-415c-a743-3b6e85668bb1",
   "metadata": {
    "tags": []
   },
   "outputs": [
    {
     "data": {
      "text/plain": [
       "<AxesSubplot:>"
      ]
     },
     "execution_count": 20,
     "metadata": {},
     "output_type": "execute_result"
    },
    {
     "data": {
      "image/png": "[encoded data removed]",
      "text/plain": [
       "<Figure size 1080x720 with 2 Axes>"
      ]
     },
     "metadata": {
      "needs_background": "light"
     },
     "output_type": "display_data"
    }
   ],
   "source": [
    "\"\"\"\n",
    "Heatmap \n",
    "\"\"\"\n",
    "plt.figure(figsize=(15, 10))\n",
    "sns.heatmap(df_full_train.corr(), cmap=\"viridis\", annot=True)\n",
    "# plt.title(\"Heatmap of top correlated columns\", fontsize=20)"
   ]
  },
  {
   "cell_type": "markdown",
   "id": "0ecfcfcb-b61e-4ad2-9e02-53794f50d2b5",
   "metadata": {},
   "source": [
    "## Model Building and Parameter Tuning "
   ]
  },
  {
   "cell_type": "code",
   "execution_count": 21,
   "id": "d9a3ceb9-c4fc-4576-b5a8-eb60a1aca08a",
   "metadata": {},
   "outputs": [],
   "source": [
    "\"\"\"\n",
    "Setting random state \n",
    "\"\"\"\n",
    "r = 1\n",
    "\n",
    "\"\"\"\n",
    "Creating a dictionary to store models and their results \n",
    "\"\"\"\n",
    "models = {}"
   ]
  },
  {
   "cell_type": "markdown",
   "id": "fb486ea1-cebe-47c1-8c07-d5cfec9d23a0",
   "metadata": {},
   "source": [
    "### Logistic Regression"
   ]
  },
  {
   "cell_type": "code",
   "execution_count": 22,
   "id": "cb179b0f-96d4-4d35-91bf-fb4c24bf7009",
   "metadata": {
    "tags": []
   },
   "outputs": [
    {
     "name": "stdout",
     "output_type": "stream",
     "text": [
      "0.94\n"
     ]
    }
   ],
   "source": [
    "train_dict = df_train[categorical_cols + numerical_cols].to_dict(orient='records')\n",
    "dv = DictVectorizer(sparse=False)\n",
    "X_train = dv.fit_transform(train_dict)\n",
    "\n",
    "lr = LogisticRegression()\n",
    "\n",
    "lr.fit(X_train, y_train)\n",
    "\n",
    "val_dict = df_val[categorical_cols + numerical_cols].to_dict(orient='records')\n",
    "X_val = dv.transform(val_dict)\n",
    "\n",
    "y_pred = lr.predict(X_val)\n",
    "\n",
    "#checking the accuracy\n",
    "score = round(accuracy_score(y_pred, y_val),2)\n",
    "print(score)"
   ]
  },
  {
   "cell_type": "code",
   "execution_count": 23,
   "id": "40815cce-146f-4cbb-b15c-15f81442f8ed",
   "metadata": {},
   "outputs": [
    {
     "name": "stdout",
     "output_type": "stream",
     "text": [
      "0.94\n"
     ]
    }
   ],
   "source": [
    "\"\"\"\n",
    "training and testing the model\n",
    "\"\"\"\n",
    "#DictVectorizer performs one hot enconding on categorical columns\n",
    "dv = DictVectorizer(sparse=False)\n",
    "\n",
    "#creating an instance of the logistic regression model\n",
    "lr = LogisticRegression(solver=\"liblinear\", C=1.0)\n",
    "\n",
    "#convert train data to dictionary\n",
    "train_dict = df_train[categorical_cols + numerical_cols].to_dict(orient='records')\n",
    "\n",
    "#one hot encoding\n",
    "X_train = dv.fit_transform(train_dict)\n",
    "\n",
    "#Training the model \n",
    "lr.fit(X_train, y_train)\n",
    "\n",
    "#convert validation data to dictionary\n",
    "val_dict = df_val[categorical_cols + numerical_cols].to_dict(orient='records')\n",
    "\n",
    "#one hot encoding\n",
    "X_val = dv.transform(val_dict)\n",
    "\n",
    "#predicting for the validation data\n",
    "y_pred = lr.predict(X_val)\n",
    "\n",
    "#checking the accuracy\n",
    "score = round(accuracy_score(y_pred, y_val),2)\n",
    "print(score)"
   ]
  },
  {
   "cell_type": "markdown",
   "id": "9cc9ac06-c090-4bda-b251-48fb7e94d1f8",
   "metadata": {},
   "source": [
    "### Tuning Logistic Regression"
   ]
  },
  {
   "cell_type": "markdown",
   "id": "16a1b6c3-712f-460a-87b3-7e692f936fbc",
   "metadata": {},
   "source": [
    "Here we try to find the best regularization value for our model"
   ]
  },
  {
   "cell_type": "code",
   "execution_count": 24,
   "id": "a49efb7b-7163-48ba-90a6-4ef3b9cc6e30",
   "metadata": {},
   "outputs": [
    {
     "data": {
      "text/plain": [
       "{1: 0.937,\n",
       " 5: 0.937,\n",
       " 7: 0.937,\n",
       " 10: 0.937,\n",
       " 15: 0.937,\n",
       " 30: 0.937,\n",
       " 50: 0.937,\n",
       " 100: 0.937}"
      ]
     },
     "execution_count": 24,
     "metadata": {},
     "output_type": "execute_result"
    }
   ],
   "source": [
    "scores_dict = {}\n",
    "for c in [1, 5, 7, 10, 15, 30, 50, 100]:\n",
    "    \n",
    "    dv = DictVectorizer(sparse=False)\n",
    "    \n",
    "    train_dict = df_train.to_dict(orient='records')\n",
    "    X_train = dv.fit_transform(train_dict)\n",
    "    \n",
    "    lr = LogisticRegression(C=c, random_state=42)\n",
    "    lr.fit(X_train, y_train)\n",
    "    \n",
    "    val_dict = df_val.to_dict(orient='records')\n",
    "    X_val = dv.transform(val_dict)\n",
    "\n",
    "    y_pred = lr.predict(X_val)\n",
    "\n",
    "    score = np.round(accuracy_score(y_val, y_pred), 3)\n",
    "    scores_dict[c] = score \n",
    "scores_dict"
   ]
  },
  {
   "cell_type": "markdown",
   "id": "91a5a832-2b9e-4103-9101-17fe8f18c921",
   "metadata": {},
   "source": [
    "We can see that tuning our model does not lead to significant change in accuracy, <br> Therefore we use the original parameters for the final model"
   ]
  },
  {
   "cell_type": "code",
   "execution_count": 25,
   "id": "f999ca54-cf44-4d84-8800-45de097f8151",
   "metadata": {},
   "outputs": [
    {
     "name": "stdout",
     "output_type": "stream",
     "text": [
      "0.937\n"
     ]
    }
   ],
   "source": [
    "\"\"\"\n",
    "Training the final model\n",
    "\"\"\"\n",
    "\n",
    "lr = LogisticRegression()\n",
    "\n",
    "lr.fit(X_train, y_train)\n",
    "\n",
    "y_pred = lr.predict(X_val)\n",
    "\n",
    "#checking the accuracy\n",
    "\n",
    "lr_score = round(accuracy_score(y_pred, y_val), 3)\n",
    "\n",
    "models['Logistic Regression'] = lr_score \n",
    "\n",
    "print(lr_score)"
   ]
  },
  {
   "cell_type": "markdown",
   "id": "f3f35466-724f-4e80-8604-e3fdb710adfd",
   "metadata": {
    "tags": []
   },
   "source": [
    "## Decision Trees"
   ]
  },
  {
   "cell_type": "markdown",
   "id": "196a4ff0-83fa-4113-b373-ce25e40f84d3",
   "metadata": {},
   "source": [
    "We use decison trees with default parameters then with tuning. <br> \n",
    "parameters to be tuned:\n",
    "- max_depth \n",
    "- min_samples_leaf"
   ]
  },
  {
   "cell_type": "code",
   "execution_count": 26,
   "id": "a3e9c8b7-2f40-4746-88e9-434da606f679",
   "metadata": {},
   "outputs": [
    {
     "data": {
      "text/plain": [
       "0.8840055632823366"
      ]
     },
     "execution_count": 26,
     "metadata": {},
     "output_type": "execute_result"
    }
   ],
   "source": [
    "\"\"\"\n",
    "with default parameters\n",
    "\"\"\"\n",
    "dt = DecisionTreeClassifier(random_state=r)\n",
    "dt.fit(X_train, y_train)\n",
    "y_pred_dt = dt.predict(X_val)\n",
    "\n",
    "accuracy_score(y_val, y_pred_dt)"
   ]
  },
  {
   "cell_type": "markdown",
   "id": "6f2c6336-8652-4bb0-ae9d-dae8525508b3",
   "metadata": {},
   "source": [
    "#### Tuning max_depth parameter "
   ]
  },
  {
   "cell_type": "code",
   "execution_count": 27,
   "id": "f528af7f-8a46-4a1a-a111-8630609e6a72",
   "metadata": {},
   "outputs": [
    {
     "name": "stdout",
     "output_type": "stream",
     "text": [
      "1 -> 0.937134909596662\n",
      "3 -> 0.937134909596662\n",
      "5 -> 0.9360222531293463\n",
      "10 -> 0.9162726008344924\n",
      "20 -> 0.8803894297635605\n",
      "None -> 0.8840055632823366\n"
     ]
    }
   ],
   "source": [
    "for m in [1,3, 5, 10, 20, None]:\n",
    "    dt = DecisionTreeClassifier(max_depth=m, random_state=r)\n",
    "    dt.fit(X_train, y_train)\n",
    "    y_pred_dt = dt.predict(X_val)\n",
    "\n",
    "    score = accuracy_score(y_val, y_pred_dt)\n",
    "    print(f\"{m} -> {score}\")"
   ]
  },
  {
   "cell_type": "code",
   "execution_count": 28,
   "id": "368e0074-49f6-4f12-911a-50cb5771c4b4",
   "metadata": {},
   "outputs": [
    {
     "name": "stdout",
     "output_type": "stream",
     "text": [
      "3 -> 0.937134909596662\n",
      "4 -> 0.937134909596662\n",
      "5 -> 0.9360222531293463\n",
      "6 -> 0.9337969401947149\n",
      "7 -> 0.9301808066759388\n"
     ]
    }
   ],
   "source": [
    "for m in [3, 4, 5, 6, 7]:\n",
    "    dt = DecisionTreeClassifier(max_depth=m, random_state=r)\n",
    "    dt.fit(X_train, y_train)\n",
    "    y_pred_dt = dt.predict(X_val)\n",
    "\n",
    "    score = accuracy_score(y_val, y_pred_dt)\n",
    "    print(f\"{m} -> {score}\")"
   ]
  },
  {
   "cell_type": "markdown",
   "id": "79dc0754-19d3-4406-b6d6-39d9b24b3880",
   "metadata": {},
   "source": [
    "Let's choose 3 as our max_depth "
   ]
  },
  {
   "cell_type": "markdown",
   "id": "d4b51357-d5d5-46da-afb4-8ccb0edc03b2",
   "metadata": {},
   "source": [
    "#### Tuning min_samples_leaf parameter"
   ]
  },
  {
   "cell_type": "code",
   "execution_count": 29,
   "id": "00095dae-9bb0-49e0-9d36-41d809b822ec",
   "metadata": {},
   "outputs": [
    {
     "name": "stdout",
     "output_type": "stream",
     "text": [
      "1 -> 0.937134909596662\n",
      "3 -> 0.937134909596662\n",
      "5 -> 0.937134909596662\n",
      "10 -> 0.937134909596662\n",
      "20 -> 0.937134909596662\n"
     ]
    }
   ],
   "source": [
    "for l in [1, 3, 5, 10, 20]:\n",
    "    dt = DecisionTreeClassifier(max_depth=1, min_samples_leaf=l, random_state=r)\n",
    "    dt.fit(X_train, y_train)\n",
    "    y_pred_dt = dt.predict(X_val)\n",
    "\n",
    "    score = accuracy_score(y_val, y_pred_dt)\n",
    "    print(f\"{l} -> {score}\")    "
   ]
  },
  {
   "cell_type": "markdown",
   "id": "eacf5b50-b386-4d78-a1aa-e4adfa166772",
   "metadata": {},
   "source": [
    "We can see that the min_samples_leaf value used has no effect on the accuracy of our model "
   ]
  },
  {
   "cell_type": "markdown",
   "id": "fd3b7a87-61c5-4b87-9646-57c16d6aa64b",
   "metadata": {},
   "source": [
    "Trying different combinations of max_depth and min_samples_leaf"
   ]
  },
  {
   "cell_type": "code",
   "execution_count": 30,
   "id": "1db5c21b-932c-4d22-bf55-0f3c8dfeaf59",
   "metadata": {},
   "outputs": [
    {
     "name": "stdout",
     "output_type": "stream",
     "text": [
      "1\n",
      "1 -> 0.937134909596662\n",
      "3 -> 0.937134909596662\n",
      "5 -> 0.937134909596662\n",
      "10 -> 0.937134909596662\n",
      "20 -> 0.937134909596662\n",
      "\n",
      "3\n",
      "1 -> 0.937134909596662\n",
      "3 -> 0.937134909596662\n",
      "5 -> 0.937134909596662\n",
      "10 -> 0.937134909596662\n",
      "20 -> 0.937134909596662\n",
      "\n",
      "5\n",
      "1 -> 0.9360222531293463\n",
      "3 -> 0.9363004172461753\n",
      "5 -> 0.9363004172461753\n",
      "10 -> 0.9354659248956885\n",
      "20 -> 0.9337969401947149\n",
      "\n"
     ]
    }
   ],
   "source": [
    "for m in [1, 3, 5]:\n",
    "    print(m)\n",
    "    for l in [1, 3, 5, 10, 20]:\n",
    "        dt = DecisionTreeClassifier(max_depth=m, min_samples_leaf=l)\n",
    "        dt.fit(X_train, y_train)\n",
    "        y_pred_dt = dt.predict(X_val)\n",
    "\n",
    "        score = accuracy_score(y_val, y_pred_dt)\n",
    "        print(f\"{l} -> {score}\")  \n",
    "    print()"
   ]
  },
  {
   "cell_type": "code",
   "execution_count": 31,
   "id": "825b4fe8-eaf3-4224-8f9c-fcc62b25dee8",
   "metadata": {},
   "outputs": [
    {
     "name": "stdout",
     "output_type": "stream",
     "text": [
      "0.937\n"
     ]
    }
   ],
   "source": [
    "\"\"\"\n",
    "Training final Model\n",
    "\"\"\"\n",
    "dt = DecisionTreeClassifier(max_depth=3, min_samples_leaf=1)\n",
    "dt.fit(X_train, y_train)\n",
    "y_pred_dt = dt.predict(X_val)\n",
    "\n",
    "dt_score = round(accuracy_score(y_val, y_pred_dt), 3)\n",
    "print(dt_score)\n",
    "\n",
    "models['Decision Trees'] = dt_score"
   ]
  },
  {
   "cell_type": "markdown",
   "id": "f534a48a-d115-4944-bcbf-e5aa127a7a9e",
   "metadata": {},
   "source": [
    "#### Feature Importance "
   ]
  },
  {
   "cell_type": "markdown",
   "id": "0434625d-2c01-4b58-b8d1-72de7128fc58",
   "metadata": {},
   "source": [
    "We can check the features that were most important for our decision tree classifier"
   ]
  },
  {
   "cell_type": "code",
   "execution_count": 32,
   "id": "121afcd4-b936-43f7-9bdd-de2699b33627",
   "metadata": {},
   "outputs": [
    {
     "data": {
      "image/png": "[encoded data removed]",
      "text/plain": [
       "<Figure size 720x504 with 1 Axes>"
      ]
     },
     "metadata": {
      "needs_background": "light"
     },
     "output_type": "display_data"
    }
   ],
   "source": [
    "plt.figure(figsize=(10,7))\n",
    "dt_imp = pd.Series(dt.feature_importances_, index=[dv.get_feature_names()]).sort_values(ascending=True)\n",
    "dt_imp.plot(kind='barh')\n",
    "sns.despine()"
   ]
  },
  {
   "cell_type": "markdown",
   "id": "18d4593f-933a-4f02-835f-29a792bda669",
   "metadata": {},
   "source": [
    "The chart shows that there are a few high impact columns, the most important of which ccustomers with low credit rating "
   ]
  },
  {
   "cell_type": "markdown",
   "id": "82371959-0ed0-4f9e-bf1d-c73695a62a82",
   "metadata": {},
   "source": [
    "## Selecting the best Model"
   ]
  },
  {
   "cell_type": "code",
   "execution_count": 33,
   "id": "9efe2dd6-42cb-47df-b765-3c19494f7d10",
   "metadata": {},
   "outputs": [
    {
     "data": {
      "text/html": [
       "<div>\n",
       "<style scoped>\n",
       "    .dataframe tbody tr th:only-of-type {\n",
       "        vertical-align: middle;\n",
       "    }\n",
       "\n",
       "    .dataframe tbody tr th {\n",
       "        vertical-align: top;\n",
       "    }\n",
       "\n",
       "    .dataframe thead th {\n",
       "        text-align: right;\n",
       "    }\n",
       "</style>\n",
       "<table border=\"1\" class=\"dataframe\">\n",
       "  <thead>\n",
       "    <tr style=\"text-align: right;\">\n",
       "      <th></th>\n",
       "      <th>Model</th>\n",
       "      <th>Score</th>\n",
       "    </tr>\n",
       "  </thead>\n",
       "  <tbody>\n",
       "    <tr>\n",
       "      <th>0</th>\n",
       "      <td>Logistic Regression</td>\n",
       "      <td>0.937</td>\n",
       "    </tr>\n",
       "    <tr>\n",
       "      <th>1</th>\n",
       "      <td>Decision Trees</td>\n",
       "      <td>0.937</td>\n",
       "    </tr>\n",
       "  </tbody>\n",
       "</table>\n",
       "</div>"
      ],
      "text/plain": [
       "                 Model  Score\n",
       "0  Logistic Regression  0.937\n",
       "1       Decision Trees  0.937"
      ]
     },
     "execution_count": 33,
     "metadata": {},
     "output_type": "execute_result"
    }
   ],
   "source": [
    "scores_df = pd.DataFrame(models.items(), columns=['Model', 'Score'])\n",
    "scores_df"
   ]
  },
  {
   "cell_type": "markdown",
   "id": "bf9bbcb7-6df6-4c09-94f6-14d478348325",
   "metadata": {},
   "source": [
    "Since we have the same performance, we select logistic rgression because it is less complex to implement. <br><br> \n",
    "Now we can train our final model <br><br>\n",
    "First we create functions for training and testing "
   ]
  },
  {
   "cell_type": "code",
   "execution_count": 34,
   "id": "42fdf466-ed1d-498a-8e99-d1b339cf05d0",
   "metadata": {},
   "outputs": [],
   "source": [
    "def train(df, y):\n",
    "    \"\"\"\n",
    "    This function takes in a set of features and targets, \n",
    "    and fits them on a logistic regression model\n",
    "    params: features, target\n",
    "    returns: dict vectorizer, model objects\n",
    "    rtype: object\n",
    "    \"\"\"\n",
    "    train_dict = df.to_dict(orient='records')\n",
    "    dv = DictVectorizer()\n",
    "    X = dv.fit_transform(train_dict)\n",
    "\n",
    "    model = LogisticRegression(random_state=1)\n",
    "    model.fit(X, y)\n",
    "    \n",
    "    return dv, model\n",
    "\n",
    "def predict(df, dv, model):\n",
    "    \"\"\"\n",
    "    This function predicts a target class for a set of features\n",
    "    params: features, standard scaler and model objects\n",
    "    returns: target class\n",
    "    rtype: integer\n",
    "    \"\"\"\n",
    "    test_dict = df.to_dict(orient=\"records\")    \n",
    "    X = dv.transform(test_dict)\n",
    "    y_pred = model.predict(X)\n",
    "\n",
    "    return y_pred"
   ]
  },
  {
   "cell_type": "code",
   "execution_count": 35,
   "id": "50082eb7-844a-480f-aa08-684a346b3459",
   "metadata": {},
   "outputs": [
    {
     "data": {
      "text/plain": [
       "0.948"
      ]
     },
     "execution_count": 35,
     "metadata": {},
     "output_type": "execute_result"
    }
   ],
   "source": [
    "\"\"\"\n",
    "Evaluating model on test data \n",
    "\"\"\"\n",
    "# df_full_train.drop(columns=['accepted_offer'], inplace=True)\n",
    "\n",
    "dv, model = train(df_full_train, y_full_train)\n",
    "\n",
    "y_pred = predict(df_test, dv, model)\n",
    "\n",
    "round(accuracy_score(y_test, y_pred), 3)"
   ]
  },
  {
   "cell_type": "markdown",
   "id": "21db7e4c-fb61-4a4c-b77e-e9742097d413",
   "metadata": {},
   "source": [
    "## Saving the model"
   ]
  },
  {
   "cell_type": "code",
   "execution_count": 36,
   "id": "c5acb149-9b9f-4683-bf65-a2ef963a94e5",
   "metadata": {},
   "outputs": [],
   "source": [
    "output_file = \"model.bin\""
   ]
  },
  {
   "cell_type": "code",
   "execution_count": 37,
   "id": "77fd22b3-0911-4b01-b2e5-8a233aaf8e0c",
   "metadata": {},
   "outputs": [],
   "source": [
    "with open(output_file, 'wb') as output_file:\n",
    "    pickle.dump((dv, model), output_file) "
   ]
  },
  {
   "cell_type": "code",
   "execution_count": 1,
   "id": "4e3218e7-deca-4ca8-8135-07acbb76c7bf",
   "metadata": {},
   "outputs": [],
   "source": [
    "import pickle\n",
    "\n",
    "import pandas as pd\n",
    "\n",
    "input_file = \"model.bin\"\n",
    "\n",
    "with open(input_file, 'rb') as file:\n",
    "    dv, model = pickle.load(file)\n",
    "    "
   ]
  },
  {
   "cell_type": "code",
   "execution_count": 2,
   "id": "f51595fa-b510-4b66-924a-4fc020ae2ce2",
   "metadata": {},
   "outputs": [],
   "source": [
    "data = {\n",
    "         'reward': 'Air Miles',\n",
    "         'mailer_type': 'Postcard',\n",
    "         'income_level': 'Medium',\n",
    "         'bank_accounts_open': 2,\n",
    "         'overdraft_protection': 'No',\n",
    "         'credit_rating': 'Medium',\n",
    "         'credit_cards_held': 2,\n",
    "         'homes_owned': 1,\n",
    "         'household_size': 4,\n",
    "         'own_your_home': 'Yes',\n",
    "         'average_balance': 745.5,\n",
    "         'q1_balance': 505.0,\n",
    "         'q2_balance': 877.0,\n",
    "         'q3_balance': 632.0,\n",
    "         'q4_balance': 968.0\n",
    "       }"
   ]
  },
  {
   "cell_type": "code",
   "execution_count": 3,
   "id": "567f632c-31ec-41f4-bf79-a5107bdffa0b",
   "metadata": {},
   "outputs": [],
   "source": [
    "X = pd.DataFrame(data, index=[0])\n",
    "\n",
    "X = dv.transform([data])\n",
    "\n",
    "y_pred = model.predict_proba(X)[0, 1]\n",
    "\n"
   ]
  },
  {
   "cell_type": "code",
   "execution_count": 4,
   "id": "527185d3-a06d-47ab-9350-6c1279ca3d56",
   "metadata": {},
   "outputs": [
    {
     "data": {
      "text/plain": [
       "0.05579647625971715"
      ]
     },
     "execution_count": 4,
     "metadata": {},
     "output_type": "execute_result"
    }
   ],
   "source": [
    "y_pred"
   ]
  },
  {
   "cell_type": "code",
   "execution_count": 5,
   "id": "0316b834-8bf2-4aef-8e01-d74772fedb54",
   "metadata": {},
   "outputs": [],
   "source": [
    "decision = (y_pred >= 0.5)"
   ]
  },
  {
   "cell_type": "code",
   "execution_count": 6,
   "id": "3c23ac2d-0128-4657-b9ff-5faac15fde98",
   "metadata": {},
   "outputs": [
    {
     "data": {
      "text/plain": [
       "False"
      ]
     },
     "execution_count": 6,
     "metadata": {},
     "output_type": "execute_result"
    }
   ],
   "source": [
    "decision"
   ]
  }
 ],
 "metadata": {
  "kernelspec": {
   "display_name": "Python 3 (ipykernel)",
   "language": "python",
   "name": "python3"
  },
  "language_info": {
   "codemirror_mode": {
    "name": "ipython",
    "version": 3
   },
   "file_extension": ".py",
   "mimetype": "text/x-python",
   "name": "python",
   "nbconvert_exporter": "python",
   "pygments_lexer": "ipython3",
   "version": "3.9.7"
  }
 },
 "nbformat": 4,
 "nbformat_minor": 5
}
